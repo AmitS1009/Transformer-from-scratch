{
 "cells": [
  {
   "cell_type": "code",
   "execution_count": 1,
   "id": "dde107e3",
   "metadata": {},
   "outputs": [],
   "source": [
    "import pandas as pd"
   ]
  },
  {
   "cell_type": "code",
   "execution_count": 2,
   "id": "c0d52af0",
   "metadata": {},
   "outputs": [],
   "source": [
    "# ---- SETTINGS ----\n",
    "input_path = \"hindi_english_parallel.csv\"       # Path to your original big CSV file\n",
    "output_path = \"data.csv\"   # Path for saving smaller CSV\n",
    "sample_size = 200000                  # 2 lakh rows"
   ]
  },
  {
   "cell_type": "code",
   "execution_count": 3,
   "id": "af93040a",
   "metadata": {},
   "outputs": [
    {
     "name": "stdout",
     "output_type": "stream",
     "text": [
      "Loading dataset...\n",
      "dataset Loaded...\n"
     ]
    }
   ],
   "source": [
    "# ---- LOAD DATA ----\n",
    "print(\"Loading dataset...\")\n",
    "df = pd.read_csv(input_path)\n",
    "print(\"dataset Loaded...\")"
   ]
  },
  {
   "cell_type": "code",
   "execution_count": 4,
   "id": "a7132025",
   "metadata": {},
   "outputs": [
    {
     "data": {
      "text/plain": [
       "(1561841, 2)"
      ]
     },
     "execution_count": 4,
     "metadata": {},
     "output_type": "execute_result"
    }
   ],
   "source": [
    "df.shape"
   ]
  },
  {
   "cell_type": "code",
   "execution_count": 5,
   "id": "fd0403b3",
   "metadata": {},
   "outputs": [
    {
     "data": {
      "text/html": [
       "<div>\n",
       "<style scoped>\n",
       "    .dataframe tbody tr th:only-of-type {\n",
       "        vertical-align: middle;\n",
       "    }\n",
       "\n",
       "    .dataframe tbody tr th {\n",
       "        vertical-align: top;\n",
       "    }\n",
       "\n",
       "    .dataframe thead th {\n",
       "        text-align: right;\n",
       "    }\n",
       "</style>\n",
       "<table border=\"1\" class=\"dataframe\">\n",
       "  <thead>\n",
       "    <tr style=\"text-align: right;\">\n",
       "      <th></th>\n",
       "      <th>hindi</th>\n",
       "      <th>english</th>\n",
       "    </tr>\n",
       "  </thead>\n",
       "  <tbody>\n",
       "    <tr>\n",
       "      <th>1561836</th>\n",
       "      <td>स्पष्टीकरण.–जहां इस उपधारा के अधीन हानि और लाभ...</td>\n",
       "      <td>स्पष्टीकरण.–जहां इस उपधारा के अधीन हानि और लाभ...</td>\n",
       "    </tr>\n",
       "    <tr>\n",
       "      <th>1561837</th>\n",
       "      <td>मैंने गौर किया है कि यह न केवल अपने महत्त्वपूर...</td>\n",
       "      <td>है। I note that this is a landmark meeting – n...</td>\n",
       "    </tr>\n",
       "    <tr>\n",
       "      <th>1561838</th>\n",
       "      <td>उन्होंने मेरे समक्ष जो प्रदर्शन किया उसमें से ...</td>\n",
       "      <td>है। In the presentations that they made before...</td>\n",
       "    </tr>\n",
       "    <tr>\n",
       "      <th>1561839</th>\n",
       "      <td>खाद्य और जल सुरक्षा; पर्यावरण की दृष्टि से वहन...</td>\n",
       "      <td>्त है। Issues such as food and water security;...</td>\n",
       "    </tr>\n",
       "    <tr>\n",
       "      <th>1561840</th>\n",
       "      <td>NaN</td>\n",
       "      <td>NaN</td>\n",
       "    </tr>\n",
       "  </tbody>\n",
       "</table>\n",
       "</div>"
      ],
      "text/plain": [
       "                                                     hindi  \\\n",
       "1561836  स्पष्टीकरण.–जहां इस उपधारा के अधीन हानि और लाभ...   \n",
       "1561837  मैंने गौर किया है कि यह न केवल अपने महत्त्वपूर...   \n",
       "1561838  उन्होंने मेरे समक्ष जो प्रदर्शन किया उसमें से ...   \n",
       "1561839  खाद्य और जल सुरक्षा; पर्यावरण की दृष्टि से वहन...   \n",
       "1561840                                                NaN   \n",
       "\n",
       "                                                   english  \n",
       "1561836  स्पष्टीकरण.–जहां इस उपधारा के अधीन हानि और लाभ...  \n",
       "1561837  है। I note that this is a landmark meeting – n...  \n",
       "1561838  है। In the presentations that they made before...  \n",
       "1561839  ्त है। Issues such as food and water security;...  \n",
       "1561840                                                NaN  "
      ]
     },
     "execution_count": 5,
     "metadata": {},
     "output_type": "execute_result"
    }
   ],
   "source": [
    "df.tail()"
   ]
  },
  {
   "cell_type": "code",
   "execution_count": 6,
   "id": "5b5cbd4a",
   "metadata": {},
   "outputs": [],
   "source": [
    "# ---- SAMPLE DATA ----\n",
    "if len(df) > sample_size:\n",
    "    df_sampled = df.sample(n=sample_size, random_state=42)\n",
    "else:\n",
    "    df_sampled = df\n",
    "    print(\"Dataset already smaller than target size, skipping sampling.\")"
   ]
  },
  {
   "cell_type": "code",
   "execution_count": 7,
   "id": "989333e6",
   "metadata": {},
   "outputs": [],
   "source": [
    "# ---- SAVE REDUCED CSV ----\n",
    "df_sampled.to_csv(output_path, index=False)"
   ]
  },
  {
   "cell_type": "code",
   "execution_count": 8,
   "id": "390108ba",
   "metadata": {},
   "outputs": [
    {
     "name": "stdout",
     "output_type": "stream",
     "text": [
      " Saved reduced dataset with 200000 rows to 'data.csv'\n"
     ]
    }
   ],
   "source": [
    "print(f\" Saved reduced dataset with {len(df_sampled)} rows to '{output_path}'\")"
   ]
  },
  {
   "cell_type": "markdown",
   "id": "ec281503",
   "metadata": {},
   "source": [
    "**Step-2**"
   ]
  },
  {
   "cell_type": "code",
   "execution_count": 9,
   "id": "6267fc3f",
   "metadata": {},
   "outputs": [],
   "source": [
    "input_path = \"data.csv\"          # your reduced CSV file\n",
    "english_col = \"english\"          \n",
    "hindi_col = \"hindi\""
   ]
  },
  {
   "cell_type": "code",
   "execution_count": 10,
   "id": "8c81a173",
   "metadata": {},
   "outputs": [
    {
     "ename": "NameError",
     "evalue": "name 'input_path_' is not defined",
     "output_type": "error",
     "traceback": [
      "\u001b[1;31m---------------------------------------------------------------------------\u001b[0m",
      "\u001b[1;31mNameError\u001b[0m                                 Traceback (most recent call last)",
      "Cell \u001b[1;32mIn[10], line 2\u001b[0m\n\u001b[0;32m      1\u001b[0m \u001b[38;5;66;03m# ---- LOAD DATA ----\u001b[39;00m\n\u001b[1;32m----> 2\u001b[0m df_ \u001b[38;5;241m=\u001b[39m pd\u001b[38;5;241m.\u001b[39mread_csv(input_path_)\n",
      "\u001b[1;31mNameError\u001b[0m: name 'input_path_' is not defined"
     ]
    }
   ],
   "source": [
    "# ---- LOAD DATA ----\n",
    "df_ = pd.read_csv(input_path_)"
   ]
  },
  {
   "cell_type": "code",
   "execution_count": null,
   "id": "095c6ccf",
   "metadata": {},
   "outputs": [],
   "source": [
    "# ---- SAVE ENGLISH ----\n",
    "with open(\"English.txt\", \"w\", encoding=\"utf-8\") as f:\n",
    "    for line in df[english_col].astype(str):\n",
    "        f.write(line.strip() + \"\\n\")"
   ]
  },
  {
   "cell_type": "code",
   "execution_count": null,
   "id": "9d831859",
   "metadata": {},
   "outputs": [],
   "source": [
    "# ---- SAVE HINDI ----\n",
    "with open(\"Hindi.txt\", \"w\", encoding=\"utf-8\") as f:\n",
    "    for line in df[hindi_col].astype(str):\n",
    "        f.write(line.strip() + \"\\n\")\n"
   ]
  },
  {
   "cell_type": "code",
   "execution_count": null,
   "id": "6cfa57f3",
   "metadata": {},
   "outputs": [
    {
     "name": "stdout",
     "output_type": "stream",
     "text": [
      "✅ Saved English.txt and Hindi.txt successfully.\n"
     ]
    }
   ],
   "source": [
    "print(\"✅ Saved English.txt and Hindi.txt successfully.\")"
   ]
  },
  {
   "cell_type": "code",
   "execution_count": null,
   "id": "643b8741",
   "metadata": {},
   "outputs": [],
   "source": [
    "with open(\"English.txt\", \"r\", encoding=\"utf-8\") as f:\n",
    "    english_lines = f.readlines()\n",
    "\n",
    "\n",
    "with open(\"Hindi.txt\", \"r\", encoding=\"utf-8\") as f:\n",
    "    hindi_lines = f.readlines()"
   ]
  },
  {
   "cell_type": "code",
   "execution_count": null,
   "id": "c5949f3b",
   "metadata": {},
   "outputs": [
    {
     "name": "stdout",
     "output_type": "stream",
     "text": [
      "English sample: ['Give your application an accessibility workout\\n', 'Accerciser Accessibility Explorer\\n', 'The default plugin layout for the bottom panel\\n', 'The default plugin layout for the top panel\\n', 'A list of plugins that are disabled by default\\n']\n"
     ]
    }
   ],
   "source": [
    "print(\"English sample:\", english_lines[:5])"
   ]
  },
  {
   "cell_type": "code",
   "execution_count": null,
   "id": "85043f34",
   "metadata": {},
   "outputs": [
    {
     "name": "stdout",
     "output_type": "stream",
     "text": [
      "Hindi sample: ['अपने अनुप्रयोग को पहुंचनीयता व्यायाम का लाभ दें\\n', 'एक्सेर्साइसर पहुंचनीयता अन्वेषक\\n', 'निचले पटल के लिए डिफोल्ट प्लग-इन खाका\\n', 'ऊपरी पटल के लिए डिफोल्ट प्लग-इन खाका\\n', 'उन प्लग-इनों की सूची जिन्हें डिफोल्ट रूप से निष्क्रिय किया गया है\\n']\n"
     ]
    }
   ],
   "source": [
    "print(\"Hindi sample:\", hindi_lines[:5])"
   ]
  },
  {
   "cell_type": "code",
   "execution_count": null,
   "id": "05311427",
   "metadata": {},
   "outputs": [],
   "source": [
    "data = pd.read_csv('data.csv')"
   ]
  },
  {
   "cell_type": "code",
   "execution_count": null,
   "id": "4f6e0be3",
   "metadata": {},
   "outputs": [
    {
     "data": {
      "text/plain": [
       "(500000, 2)"
      ]
     },
     "execution_count": 17,
     "metadata": {},
     "output_type": "execute_result"
    }
   ],
   "source": [
    "data.shape"
   ]
  },
  {
   "cell_type": "code",
   "execution_count": null,
   "id": "78eaa884",
   "metadata": {},
   "outputs": [],
   "source": []
  }
 ],
 "metadata": {
  "kernelspec": {
   "display_name": "base",
   "language": "python",
   "name": "python3"
  },
  "language_info": {
   "codemirror_mode": {
    "name": "ipython",
    "version": 3
   },
   "file_extension": ".py",
   "mimetype": "text/x-python",
   "name": "python",
   "nbconvert_exporter": "python",
   "pygments_lexer": "ipython3",
   "version": "3.13.5"
  }
 },
 "nbformat": 4,
 "nbformat_minor": 5
}
