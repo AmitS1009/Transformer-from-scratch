{
 "cells": [
  {
   "cell_type": "code",
   "execution_count": 1,
   "id": "68eb1155",
   "metadata": {},
   "outputs": [],
   "source": [
    "import pandas as pd"
   ]
  },
  {
   "cell_type": "code",
   "execution_count": 2,
   "id": "e71b1a41",
   "metadata": {},
   "outputs": [],
   "source": [
    "input_path = \"data.csv\"          # your reduced CSV file\n",
    "english_col = \"english\"          \n",
    "hindi_col = \"hindi\""
   ]
  },
  {
   "cell_type": "code",
   "execution_count": 3,
   "id": "69d2c631",
   "metadata": {},
   "outputs": [],
   "source": [
    "# ---- LOAD DATA ----\n",
    "df = pd.read_csv(input_path)"
   ]
  },
  {
   "cell_type": "code",
   "execution_count": 4,
   "id": "d4a9d87e",
   "metadata": {},
   "outputs": [],
   "source": [
    "# ---- SAVE ENGLISH ----\n",
    "with open(\"English.txt\", \"w\", encoding=\"utf-8\") as f:\n",
    "    for line in df[english_col].astype(str):\n",
    "        f.write(line.strip() + \"\\n\")"
   ]
  },
  {
   "cell_type": "code",
   "execution_count": 5,
   "id": "18782f57",
   "metadata": {},
   "outputs": [],
   "source": [
    "# ---- SAVE HINDI ----\n",
    "with open(\"Hindi.txt\", \"w\", encoding=\"utf-8\") as f:\n",
    "    for line in df[hindi_col].astype(str):\n",
    "        f.write(line.strip() + \"\\n\")"
   ]
  },
  {
   "cell_type": "code",
   "execution_count": null,
   "id": "8ea25708",
   "metadata": {},
   "outputs": [],
   "source": []
  }
 ],
 "metadata": {
  "kernelspec": {
   "display_name": "base",
   "language": "python",
   "name": "python3"
  },
  "language_info": {
   "codemirror_mode": {
    "name": "ipython",
    "version": 3
   },
   "file_extension": ".py",
   "mimetype": "text/x-python",
   "name": "python",
   "nbconvert_exporter": "python",
   "pygments_lexer": "ipython3",
   "version": "3.13.5"
  }
 },
 "nbformat": 4,
 "nbformat_minor": 5
}
